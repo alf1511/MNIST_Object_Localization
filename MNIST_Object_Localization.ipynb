{
  "nbformat": 4,
  "nbformat_minor": 0,
  "metadata": {
    "colab": {
      "provenance": [],
      "gpuType": "T4"
    },
    "kernelspec": {
      "name": "python3",
      "display_name": "Python 3"
    },
    "language_info": {
      "name": "python"
    },
    "accelerator": "GPU"
  },
  "cells": [
    {
      "cell_type": "markdown",
      "source": [
        "# Imports"
      ],
      "metadata": {
        "id": "Y-oTXJ43iMz6"
      }
    },
    {
      "cell_type": "code",
      "execution_count": 16,
      "metadata": {
        "colab": {
          "base_uri": "https://localhost:8080/"
        },
        "id": "W-11qZ14iDxM",
        "outputId": "fa4ee94a-39e2-45ae-9eef-dbeaadbf486f"
      },
      "outputs": [
        {
          "output_type": "stream",
          "name": "stdout",
          "text": [
            "Colab only includes TensorFlow 2.x; %tensorflow_version has no effect.\n",
            "Tensorflow version 2.12.0\n"
          ]
        }
      ],
      "source": [
        "import os, re, time, json\n",
        "import PIL.Image, PIL.ImageFont, PIL.ImageDraw\n",
        "import numpy as np\n",
        "try:\n",
        "  %tensorflow_version 2.x\n",
        "except Exception:\n",
        "  pass\n",
        "import tensorflow as tf\n",
        "from matplotlib import pyplot as plt\n",
        "import tensorflow_datasets as tfds\n",
        "\n",
        "print(\"Tensorflow version \" + tf.__version__)"
      ]
    },
    {
      "cell_type": "markdown",
      "source": [
        "# Visualize Utilities"
      ],
      "metadata": {
        "id": "bh6ynKYcibFw"
      }
    },
    {
      "cell_type": "code",
      "source": [
        "im_width = 75\n",
        "im_height = 75\n",
        "use_normalized_coordinates = True\n",
        "\n",
        "def draw_bounding_boxes_on_image_array(image, #numpy array object\n",
        "                                       boxes,\n",
        "                                       color=[],\n",
        "                                       thickness=1,\n",
        "                                       display_str_list=()\n",
        "                                       ):\n",
        "  image_pil = PIL.Image.fromarray(image)\n",
        "  rgbimg = PIL.Image.new('RGBA', image_pil.size)\n",
        "  rgbimg.paste(image_pil)\n",
        "  draw_bounding_boxes_on_image(rgbimg, boxes, color, thickness, display_str_list)\n",
        "\n",
        "  return np.array(rgbimg)\n",
        "\n",
        "def draw_bounding_boxes_on_image(image, #PIL image object\n",
        "                                 boxes,\n",
        "                                 color=[],\n",
        "                                 thickness=1,\n",
        "                                 display_str_list=()):\n",
        "  boxes_shape = boxes.shape\n",
        "  if not boxes_shape:\n",
        "    return\n",
        "  if len(boxes_shape) != 2 or boxes_shape[1] != 4:\n",
        "    raise ValueError('Input must be size of [N, 4]')\n",
        "  for i in range(boxes_shape[0]):\n",
        "    draw_bounding_box_on_image(image, boxes[i, 1], boxes[i,0], boxes[i, 3], boxes[i, 2]\n",
        "                               , color[i], thickness, display_str_list[i])\n",
        "\n",
        "def draw_bounding_box_on_image(image, ymin, xmin, ymax, xmax, color='red',\n",
        "                               thickness=1, display_str=None,\n",
        "                               use_normalized_coordinates=True):\n",
        "  draw = PIL.ImageDraw.Draw(image)\n",
        "  im_width, im_height = image.size\n",
        "  if use_normalized_coordinates:\n",
        "    (left, right, top, bottom) = (xmin * im_width, xmax * im_width,\n",
        "                                  ymin * im_height, ymax * im_height)\n",
        "  else:\n",
        "    (left, right, top, bottom) = (xmin, xmax, ymin, ymax)\n",
        "  draw.line([(left, top), (left, bottom), (right, bottom),\n",
        "             (right, top), (left, top)], width=thickness, fill=color)"
      ],
      "metadata": {
        "id": "jHrxoZx5iPt3"
      },
      "execution_count": 17,
      "outputs": []
    },
    {
      "cell_type": "code",
      "source": [
        "plt.rc('image', cmap='gray')\n",
        "plt.rc('grid', linewidth=0)\n",
        "plt.rc('xtick', top=False, bottom=False, labelsize='large')\n",
        "plt.rc('ytick', left=False, right=False, labelsize='large')\n",
        "plt.rc('axes', facecolor='F8F8F8', titlesize=\"large\", edgecolor='white')\n",
        "plt.rc('text', color='a8151a')\n",
        "plt.rc('figure', facecolor='F0F0F0')# Matplotlib fonts\n",
        "MATPLOTLIB_FONT_DIR = os.path.join(os.path.dirname(plt.__file__), \"mpl-data/fonts/ttf\")\n",
        "\n",
        "# pull a batch from the datasets. This code is not very nice, it gets much better in eager mode (TODO)\n",
        "def dataset_to_numpy_util(training_dataset, validation_dataset, N):\n",
        "\n",
        "  # get one batch from each: 10000 validation digits, N training digits\n",
        "  batch_train_ds = training_dataset.unbatch().batch(N)\n",
        "\n",
        "  # eager execution: loop through datasets normally\n",
        "  if tf.executing_eagerly():\n",
        "    for validation_digits, (validation_labels, validation_bboxes) in validation_dataset:\n",
        "      validation_digits = validation_digits.numpy()\n",
        "      validation_labels = validation_labels.numpy()\n",
        "      validation_bboxes = validation_bboxes.numpy()\n",
        "      break\n",
        "    for training_digits, (training_labels, training_bboxes) in batch_train_ds:\n",
        "      training_digits = training_digits.numpy()\n",
        "      training_labels = training_labels.numpy()\n",
        "      training_bboxes = training_bboxes.numpy()\n",
        "      break\n",
        "\n",
        "  # these were one-hot encoded in the dataset\n",
        "  validation_labels = np.argmax(validation_labels, axis=1)\n",
        "  training_labels = np.argmax(training_labels, axis=1)\n",
        "\n",
        "  return (training_digits, training_labels, training_bboxes,\n",
        "          validation_digits, validation_labels, validation_bboxes)\n",
        "\n",
        "# create digits from local fonts for testing\n",
        "def create_digits_from_local_fonts(n):\n",
        "  font_labels = []\n",
        "  img = PIL.Image.new('LA', (75*n, 75), color = (0,255)) # format 'LA': black in channel 0, alpha in channel 1\n",
        "  font1 = PIL.ImageFont.truetype(os.path.join(MATPLOTLIB_FONT_DIR, 'DejaVuSansMono-Oblique.ttf'), 25)\n",
        "  font2 = PIL.ImageFont.truetype(os.path.join(MATPLOTLIB_FONT_DIR, 'STIXGeneral.ttf'), 25)\n",
        "  d = PIL.ImageDraw.Draw(img)\n",
        "  for i in range(n):\n",
        "    font_labels.append(i%10)\n",
        "    d.text((7+i*75,0 if i<10 else -4), str(i%10), fill=(255,255), font=font1 if i<10 else font2)\n",
        "  font_digits = np.array(img.getdata(), np.float32)[:,0] / 255.0 # black in channel 0, alpha in channel 1 (discarded)\n",
        "  font_digits = np.reshape(np.stack(np.split(np.reshape(font_digits, [75, 75*n]), n, axis=1), axis=0), [n, 75*75])\n",
        "  return font_digits, font_labels\n",
        "\n",
        "\n",
        "# utility to display a row of digits with their predictions\n",
        "def display_digits_with_boxes(digits, predictions, labels, pred_bboxes, bboxes, iou, title):\n",
        "\n",
        "  n = 10\n",
        "\n",
        "  indexes = np.random.choice(len(predictions), size=n)\n",
        "  n_digits = digits[indexes]\n",
        "  n_predictions = predictions[indexes]\n",
        "  n_labels = labels[indexes]\n",
        "\n",
        "  n_iou = []\n",
        "  if len(iou) > 0:\n",
        "    n_iou = iou[indexes]\n",
        "\n",
        "  if (len(pred_bboxes) > 0):\n",
        "    n_pred_bboxes = pred_bboxes[indexes,:]\n",
        "\n",
        "  if (len(bboxes) > 0):\n",
        "    n_bboxes = bboxes[indexes,:]\n",
        "\n",
        "\n",
        "  n_digits = n_digits * 255.0\n",
        "  n_digits = n_digits.reshape(n, 75, 75)\n",
        "  fig = plt.figure(figsize=(20, 4))\n",
        "  plt.title(title)\n",
        "  plt.yticks([])\n",
        "  plt.xticks([])\n",
        "\n",
        "  for i in range(10):\n",
        "    ax = fig.add_subplot(1, 10, i+1)\n",
        "    bboxes_to_plot = []\n",
        "    if (len(pred_bboxes) > i):\n",
        "      bboxes_to_plot.append(n_pred_bboxes[i])\n",
        "\n",
        "    if (len(bboxes) > i):\n",
        "      bboxes_to_plot.append(n_bboxes[i])\n",
        "\n",
        "    img_to_draw = draw_bounding_boxes_on_image_array(image=n_digits[i], boxes=np.asarray(bboxes_to_plot), color=['red', 'green'], display_str_list=[\"true\", \"pred\"])\n",
        "    plt.xlabel(n_predictions[i])\n",
        "    plt.xticks([])\n",
        "    plt.yticks([])\n",
        "\n",
        "    if n_predictions[i] != n_labels[i]:\n",
        "      ax.xaxis.label.set_color('red')\n",
        "\n",
        "\n",
        "\n",
        "    plt.imshow(img_to_draw)\n",
        "\n",
        "    if len(iou) > i :\n",
        "      color = \"black\"\n",
        "      if (n_iou[i][0] < iou_threshold):\n",
        "        color = \"red\"\n",
        "      ax.text(0.2, -0.3, \"iou: %s\" %(n_iou[i][0]), color=color, transform=ax.transAxes)\n",
        "\n",
        "\n",
        "# utility to display training and validation curves\n",
        "def plot_metrics(metric_name, title, ylim=5):\n",
        "  plt.title(title)\n",
        "  plt.ylim(0,ylim)\n",
        "  plt.plot(history.history[metric_name],color='blue',label=metric_name)\n",
        "  plt.plot(history.history['val_' + metric_name],color='green',label='val_' + metric_name)"
      ],
      "metadata": {
        "id": "0pU53_NCsLUZ"
      },
      "execution_count": 18,
      "outputs": []
    },
    {
      "cell_type": "markdown",
      "source": [
        "# TPU or GPU Detection"
      ],
      "metadata": {
        "id": "-hYotcCg-nB7"
      }
    },
    {
      "cell_type": "code",
      "source": [
        "try:\n",
        "  tpu = tf.distribute.cluster_resolver.TPUClusterResolver()\n",
        "except ValueError:\n",
        "  tpu = None\n",
        "  gpus = tf.config.experimental.list_logical_devices('GPU')\n",
        "\n",
        "if tpu:\n",
        "  tf.config.experimental_connect_to_cluster(tpu)\n",
        "  tf.tpu.experimental.initialize_tpu_system(tpu)\n",
        "  strategy = tf.distribute.experimental.TPUStrategy(tpu) # Going back and forth between TPU and host is expensive. Better to run 128 batches on the TPU before reporting back.\n",
        "  print('Running on TPU ', tpu.cluster_spec().as_dict()['worker'])\n",
        "elif len(gpus) > 1:\n",
        "  strategy = tf.distribute.MirroredStrategy([gpu.name for gpu in gpus])\n",
        "  print('Running on multiple GPUs ', [gpu.name for gpu in gpus])\n",
        "elif len(gpus) == 1:\n",
        "  strategy = tf.distribute.get_strategy() # default strategy that works on CPU and single GPU\n",
        "  print('Running on single GPU ', gpus[0].name)\n",
        "else:\n",
        "  strategy = tf.distribute.get_strategy() # default strategy that works on CPU and single GPU\n",
        "  print('Running on CPU')\n",
        "print(\"Number of accelerators: \", strategy.num_replicas_in_sync)"
      ],
      "metadata": {
        "colab": {
          "base_uri": "https://localhost:8080/"
        },
        "id": "WhQT8d8Jsmxf",
        "outputId": "957800e4-b5f0-4b2f-b1e8-8654902b03a1"
      },
      "execution_count": 19,
      "outputs": [
        {
          "output_type": "stream",
          "name": "stdout",
          "text": [
            "Running on single GPU  /device:GPU:0\n",
            "Number of accelerators:  1\n"
          ]
        }
      ]
    },
    {
      "cell_type": "code",
      "source": [
        "BATCH_SIZE = 64 * strategy.num_replicas_in_sync"
      ],
      "metadata": {
        "id": "0Vorn9g3AnkD"
      },
      "execution_count": 20,
      "outputs": []
    },
    {
      "cell_type": "markdown",
      "source": [
        "# Load and Preprocess Data"
      ],
      "metadata": {
        "id": "0Tm9GTptBKJt"
      }
    },
    {
      "cell_type": "code",
      "source": [
        "def read_image_tfds(image, label):\n",
        "  xmin = tf.random.uniform((), 0, 48, dtype=tf.int32)\n",
        "  ymin = tf.random.uniform((), 0, 48, dtype=tf.int32)\n",
        "  image = tf.reshape(image, (28, 28, 1))\n",
        "  image = tf.image.pad_to_bounding_box(image, ymin, xmin, 75, 75)\n",
        "  image = tf.cast(image, tf.float32)\n",
        "  xmin = tf.cast(xmin, tf.float32)\n",
        "  ymin = tf.cast(ymin, tf.float32)\n",
        "\n",
        "  xmax = (xmin + 28) / 75\n",
        "  ymax = (ymin + 28) / 75\n",
        "  xmin = xmin / 75\n",
        "  ymin = ymin / 75\n",
        "  return image, (tf.one_hot(label, 10), [xmin, ymin, xmax, ymax])\n",
        "\n",
        "def get_training_dataset():\n",
        "  with strategy.scope():\n",
        "    dataset = tfds.load(\"mnist\", split=\"train\", as_supervised=True, try_gcs=True)\n",
        "    dataset = dataset.map(read_image_tfds, num_parallel_calls=16)\n",
        "    dataset = dataset.shuffle(5000, reshuffle_each_iteration=True)\n",
        "    dataset = dataset.repeat() # Mandatory for Keras for now\n",
        "    dataset = dataset.batch(BATCH_SIZE, drop_remainder=True) # drop_remainder is important on TPU, batch size must be fixed\n",
        "    dataset = dataset.prefetch(-1)  # fetch next batches while training on the current one (-1: autotune prefetch buffer size)\n",
        "  return dataset\n",
        "\n",
        "def get_validation_dataset():\n",
        "    dataset = tfds.load(\"mnist\", split=\"test\", as_supervised=True, try_gcs=True)\n",
        "    dataset = dataset.map(read_image_tfds, num_parallel_calls=16)\n",
        "\n",
        "    #dataset = dataset.cache() # this small dataset can be entirely cached in RAM\n",
        "    dataset = dataset.batch(10000, drop_remainder=True) # 10000 items in eval dataset, all in one batch\n",
        "    dataset = dataset.repeat() # Mandatory for Keras for now\n",
        "    return dataset\n",
        "\n",
        "with strategy.scope():\n",
        "  training_dataset = get_training_dataset()\n",
        "  validation_dataset = get_validation_dataset()"
      ],
      "metadata": {
        "id": "KQ7AjWOXBM7d"
      },
      "execution_count": 21,
      "outputs": []
    },
    {
      "cell_type": "markdown",
      "source": [
        "# Visualize Data"
      ],
      "metadata": {
        "id": "CpqZrr2ZXea0"
      }
    },
    {
      "cell_type": "code",
      "source": [
        "(training_digits, training_labels, training_bboxes,\n",
        " validation_digits, validation_labels, validation_bboxes) = dataset_to_numpy_util(training_dataset, validation_dataset, 10)\n",
        "\n",
        "display_digits_with_boxes(training_digits, training_labels, training_labels, np.array([]), training_bboxes, np.array([]), \"training digits and their labels\")\n",
        "display_digits_with_boxes(validation_digits, validation_labels, validation_labels, np.array([]), validation_bboxes, np.array([]), \"validation digits and their labels\")"
      ],
      "metadata": {
        "colab": {
          "base_uri": "https://localhost:8080/",
          "height": 717
        },
        "id": "dEZXKiIaVZdi",
        "outputId": "5bd8479a-adb1-437b-98fc-cd695743e296"
      },
      "execution_count": 22,
      "outputs": [
        {
          "output_type": "display_data",
          "data": {
            "text/plain": [
              "<Figure size 2000x400 with 11 Axes>"
            ],
            "image/png": "[encoded data removed]"
          },
          "metadata": {}
        },
        {
          "output_type": "display_data",
          "data": {
            "text/plain": [
              "<Figure size 2000x400 with 11 Axes>"
            ],
            "image/png": "[encoded data removed]"
          },
          "metadata": {}
        }
      ]
    },
    {
      "cell_type": "markdown",
      "source": [
        "# Define the Network"
      ],
      "metadata": {
        "id": "k4xhaNcXXjh5"
      }
    },
    {
      "cell_type": "code",
      "source": [
        "def feature_extractor(inputs):\n",
        "  x = tf.keras.layers.Conv2D(16, kernel_size=3, activation='relu', input_shape=(75,75))(inputs)\n",
        "  x = tf.keras.layers.AveragePooling2D((2,2))(x)\n",
        "\n",
        "  x = tf.keras.layers.Conv2D(32, kernel_size=3, activation='relu')(x)\n",
        "  x = tf.keras.layers.AveragePooling2D((2,2))(x)\n",
        "\n",
        "  x = tf.keras.layers.Conv2D(64, kernel_size=3, activation='relu')(x)\n",
        "  x = tf.keras.layers.AveragePooling2D((2,2))(x)\n",
        "\n",
        "  return x\n",
        "\n",
        "def dense_layers(inputs):\n",
        "  x = tf.keras.layers.Flatten()(inputs)\n",
        "  x = tf.keras.layers.Dense(128, activation='relu')(x)\n",
        "\n",
        "  return x\n",
        "\n",
        "def classifier(inputs):\n",
        "  return tf.keras.layers.Dense(10, activation='softmax',\n",
        "                               name='classification')(inputs)\n",
        "\n",
        "def bounding_box_regression(inputs):\n",
        "  return tf.keras.layers.Dense(4, name='bounding_box')(inputs)\n",
        "\n",
        "def final_model(inputs):\n",
        "  cnn = feature_extractor(inputs)\n",
        "  dense = dense_layers(cnn)\n",
        "\n",
        "  classification_output = classifier(dense)\n",
        "  bounding_box = bounding_box_regression(dense)\n",
        "\n",
        "  model = tf.keras.Model(inputs=inputs, outputs=[classification_output,\n",
        "                                                 bounding_box])\n",
        "  return model\n",
        "\n",
        "def define_and_compile_model(inputs):\n",
        "  model = final_model(inputs)\n",
        "\n",
        "  model.compile(optimizer='adam',\n",
        "                loss={\n",
        "                    'classification': 'categorical_crossentropy',\n",
        "                    'bounding_box': 'mse'\n",
        "                },\n",
        "                metrics={\n",
        "                    'classification': 'accuracy',\n",
        "                    'bounding_box': 'mse'\n",
        "                })\n",
        "  return model\n",
        "\n",
        "with strategy.scope():\n",
        "  inputs = tf.keras.layers.Input(shape=(75, 75, 1))\n",
        "  model = define_and_compile_model(inputs)\n",
        "\n",
        "model.summary()"
      ],
      "metadata": {
        "colab": {
          "base_uri": "https://localhost:8080/"
        },
        "id": "8899AYVdXFTz",
        "outputId": "1104bc0f-3f4f-4482-d1ac-c280e7b78c2a"
      },
      "execution_count": 23,
      "outputs": [
        {
          "output_type": "stream",
          "name": "stdout",
          "text": [
            "Model: \"model_1\"\n",
            "__________________________________________________________________________________________________\n",
            " Layer (type)                   Output Shape         Param #     Connected to                     \n",
            "==================================================================================================\n",
            " input_2 (InputLayer)           [(None, 75, 75, 1)]  0           []                               \n",
            "                                                                                                  \n",
            " conv2d_3 (Conv2D)              (None, 73, 73, 16)   160         ['input_2[0][0]']                \n",
            "                                                                                                  \n",
            " average_pooling2d_3 (AveragePo  (None, 36, 36, 16)  0           ['conv2d_3[0][0]']               \n",
            " oling2D)                                                                                         \n",
            "                                                                                                  \n",
            " conv2d_4 (Conv2D)              (None, 34, 34, 32)   4640        ['average_pooling2d_3[0][0]']    \n",
            "                                                                                                  \n",
            " average_pooling2d_4 (AveragePo  (None, 17, 17, 32)  0           ['conv2d_4[0][0]']               \n",
            " oling2D)                                                                                         \n",
            "                                                                                                  \n",
            " conv2d_5 (Conv2D)              (None, 15, 15, 64)   18496       ['average_pooling2d_4[0][0]']    \n",
            "                                                                                                  \n",
            " average_pooling2d_5 (AveragePo  (None, 7, 7, 64)    0           ['conv2d_5[0][0]']               \n",
            " oling2D)                                                                                         \n",
            "                                                                                                  \n",
            " flatten_1 (Flatten)            (None, 3136)         0           ['average_pooling2d_5[0][0]']    \n",
            "                                                                                                  \n",
            " dense_1 (Dense)                (None, 128)          401536      ['flatten_1[0][0]']              \n",
            "                                                                                                  \n",
            " classification (Dense)         (None, 10)           1290        ['dense_1[0][0]']                \n",
            "                                                                                                  \n",
            " bounding_box (Dense)           (None, 4)            516         ['dense_1[0][0]']                \n",
            "                                                                                                  \n",
            "==================================================================================================\n",
            "Total params: 426,638\n",
            "Trainable params: 426,638\n",
            "Non-trainable params: 0\n",
            "__________________________________________________________________________________________________\n"
          ]
        }
      ]
    },
    {
      "cell_type": "markdown",
      "source": [
        "# Train and validate the model"
      ],
      "metadata": {
        "id": "e1phPGHbpgnh"
      }
    },
    {
      "cell_type": "code",
      "source": [
        "EPOCHS = 10\n",
        "steps_per_epoch = 60000//BATCH_SIZE\n",
        "validation_steps = 1\n",
        "\n",
        "history = model.fit(training_dataset, steps_per_epoch=steps_per_epoch,\n",
        "                    validation_data=validation_dataset, validation_steps=validation_steps,\n",
        "                    epochs=EPOCHS)\n",
        "\n",
        "loss, classification_loss, bounding_box_loss, classification_accuracy, bounding_box_mse = model.evaluate(validation_dataset, steps=1)\n",
        "print(\"Validation accuracy: \", classification_accuracy)"
      ],
      "metadata": {
        "colab": {
          "base_uri": "https://localhost:8080/"
        },
        "id": "QBRZDMaSprlW",
        "outputId": "b22826fb-e33f-4217-8f10-ffa05a0a6ce6"
      },
      "execution_count": 24,
      "outputs": [
        {
          "output_type": "stream",
          "name": "stdout",
          "text": [
            "Epoch 1/10\n",
            "937/937 [==============================] - 21s 18ms/step - loss: 0.6945 - classification_loss: 0.6282 - bounding_box_loss: 0.0664 - classification_accuracy: 0.7884 - bounding_box_mse: 0.0664 - val_loss: 0.2147 - val_classification_loss: 0.1910 - val_bounding_box_loss: 0.0237 - val_classification_accuracy: 0.9427 - val_bounding_box_mse: 0.0237\n",
            "Epoch 2/10\n",
            "937/937 [==============================] - 13s 14ms/step - loss: 0.1477 - classification_loss: 0.1323 - bounding_box_loss: 0.0155 - classification_accuracy: 0.9602 - bounding_box_mse: 0.0155 - val_loss: 0.1048 - val_classification_loss: 0.0948 - val_bounding_box_loss: 0.0100 - val_classification_accuracy: 0.9695 - val_bounding_box_mse: 0.0100\n",
            "Epoch 3/10\n",
            "937/937 [==============================] - 12s 13ms/step - loss: 0.1063 - classification_loss: 0.0989 - bounding_box_loss: 0.0073 - classification_accuracy: 0.9689 - bounding_box_mse: 0.0073 - val_loss: 0.0983 - val_classification_loss: 0.0927 - val_bounding_box_loss: 0.0057 - val_classification_accuracy: 0.9731 - val_bounding_box_mse: 0.0057\n",
            "Epoch 4/10\n",
            "937/937 [==============================] - 13s 14ms/step - loss: 0.0860 - classification_loss: 0.0819 - bounding_box_loss: 0.0040 - classification_accuracy: 0.9753 - bounding_box_mse: 0.0040 - val_loss: 0.0629 - val_classification_loss: 0.0600 - val_bounding_box_loss: 0.0029 - val_classification_accuracy: 0.9809 - val_bounding_box_mse: 0.0029\n",
            "Epoch 5/10\n",
            "937/937 [==============================] - 13s 14ms/step - loss: 0.0731 - classification_loss: 0.0705 - bounding_box_loss: 0.0026 - classification_accuracy: 0.9780 - bounding_box_mse: 0.0026 - val_loss: 0.0609 - val_classification_loss: 0.0591 - val_bounding_box_loss: 0.0019 - val_classification_accuracy: 0.9806 - val_bounding_box_mse: 0.0019\n",
            "Epoch 6/10\n",
            "937/937 [==============================] - 12s 12ms/step - loss: 0.0671 - classification_loss: 0.0653 - bounding_box_loss: 0.0018 - classification_accuracy: 0.9799 - bounding_box_mse: 0.0018 - val_loss: 0.0735 - val_classification_loss: 0.0718 - val_bounding_box_loss: 0.0018 - val_classification_accuracy: 0.9782 - val_bounding_box_mse: 0.0018\n",
            "Epoch 7/10\n",
            "937/937 [==============================] - 11s 12ms/step - loss: 0.0610 - classification_loss: 0.0594 - bounding_box_loss: 0.0016 - classification_accuracy: 0.9815 - bounding_box_mse: 0.0016 - val_loss: 0.0440 - val_classification_loss: 0.0424 - val_bounding_box_loss: 0.0016 - val_classification_accuracy: 0.9864 - val_bounding_box_mse: 0.0016\n",
            "Epoch 8/10\n",
            "937/937 [==============================] - 12s 13ms/step - loss: 0.0557 - classification_loss: 0.0542 - bounding_box_loss: 0.0015 - classification_accuracy: 0.9838 - bounding_box_mse: 0.0015 - val_loss: 0.0485 - val_classification_loss: 0.0470 - val_bounding_box_loss: 0.0015 - val_classification_accuracy: 0.9845 - val_bounding_box_mse: 0.0015\n",
            "Epoch 9/10\n",
            "937/937 [==============================] - 11s 12ms/step - loss: 0.0522 - classification_loss: 0.0506 - bounding_box_loss: 0.0016 - classification_accuracy: 0.9835 - bounding_box_mse: 0.0016 - val_loss: 0.0357 - val_classification_loss: 0.0343 - val_bounding_box_loss: 0.0014 - val_classification_accuracy: 0.9887 - val_bounding_box_mse: 0.0014\n",
            "Epoch 10/10\n",
            "937/937 [==============================] - 12s 12ms/step - loss: 0.0483 - classification_loss: 0.0468 - bounding_box_loss: 0.0015 - classification_accuracy: 0.9858 - bounding_box_mse: 0.0015 - val_loss: 0.0468 - val_classification_loss: 0.0453 - val_bounding_box_loss: 0.0015 - val_classification_accuracy: 0.9853 - val_bounding_box_mse: 0.0015\n",
            "1/1 [==============================] - 2s 2s/step - loss: 0.0514 - classification_loss: 0.0498 - bounding_box_loss: 0.0016 - classification_accuracy: 0.9849 - bounding_box_mse: 0.0016\n",
            "Validation accuracy:  0.9848999977111816\n"
          ]
        }
      ]
    },
    {
      "cell_type": "code",
      "source": [
        "plot_metrics(\"classification_loss\", \"Classification Loss\")\n",
        "plot_metrics(\"bounding_box_loss\", \"Bounding Box Loss\")"
      ],
      "metadata": {
        "colab": {
          "base_uri": "https://localhost:8080/",
          "height": 456
        },
        "id": "J92rAFU1rKNX",
        "outputId": "8ea2ac2e-4864-43d6-e4d8-f5e4ce9e7557"
      },
      "execution_count": 25,
      "outputs": [
        {
          "output_type": "display_data",
          "data": {
            "text/plain": [
              "<Figure size 640x480 with 1 Axes>"
            ],
            "image/png": "[encoded data removed]"
          },
          "metadata": {}
        }
      ]
    },
    {
      "cell_type": "markdown",
      "source": [
        "# IOU"
      ],
      "metadata": {
        "id": "T9ZjvGrmuUJe"
      }
    },
    {
      "cell_type": "code",
      "source": [
        "def intersection_over_union(pred_box, true_box):\n",
        "  xmin_pred, ymin_pred, xmax_pred, ymax_pred = np.split(pred_box, 4, axis=1)\n",
        "  xmin_true, ymin_true, xmax_true, ymax_true = np.split(true_box, 4, axis=1)\n",
        "\n",
        "  smoothing_factor = 1e-10\n",
        "\n",
        "  xmin_overlap = np.maximum(xmin_pred, xmin_true)\n",
        "  xmax_overlap = np.maximum(xmax_pred, xmax_true)\n",
        "  ymin_overlap = np.maximum(ymin_pred, ymin_true)\n",
        "  ymax_overlap = np.maximum(ymax_pred, ymax_true)\n",
        "\n",
        "  pred_box_area = (xmax_pred - xmin_pred) * (ymax_pred - ymin_pred)\n",
        "  true_box_area = (xmax_true - xmin_true) * (ymax_true - ymin_true)\n",
        "\n",
        "  overlap_area = np.maximum((xmax_overlap - xmin_overlap), 0)  * np.maximum((ymax_overlap - ymin_overlap), 0)\n",
        "  union_area = (pred_box_area + true_box_area) - overlap_area\n",
        "\n",
        "  iou = (overlap_area + smoothing_factor) / (union_area + smoothing_factor)\n",
        "\n",
        "  return iou"
      ],
      "metadata": {
        "id": "Gty73nUusQAh"
      },
      "execution_count": 26,
      "outputs": []
    },
    {
      "cell_type": "code",
      "source": [
        "# recognize validation digits\n",
        "predictions = model.predict(validation_digits, batch_size=64)\n",
        "predicted_labels = np.argmax(predictions[0], axis=1)\n",
        "\n",
        "predicted_bboxes = predictions[1]\n",
        "\n",
        "iou = intersection_over_union(predicted_bboxes, validation_bboxes)\n",
        "\n",
        "iou_threshold = 0.6\n",
        "\n",
        "print(\"Number of predictions where iou > threshold(%s): %s\" % (iou_threshold, (iou >= iou_threshold).sum()))\n",
        "print(\"Number of predictions where iou < threshold(%s): %s\" % (iou_threshold, (iou < iou_threshold).sum()))\n",
        "\n",
        "display_digits_with_boxes(validation_digits, predicted_labels, validation_labels, predicted_bboxes, validation_bboxes, iou, \"True and Predicted values\")"
      ],
      "metadata": {
        "colab": {
          "base_uri": "https://localhost:8080/",
          "height": 422
        },
        "id": "Z0P6YCjEuQQa",
        "outputId": "ba7bf24b-9f20-4bdc-93c0-0868b7a7ba92"
      },
      "execution_count": 27,
      "outputs": [
        {
          "output_type": "stream",
          "name": "stdout",
          "text": [
            "157/157 [==============================] - 0s 2ms/step\n",
            "Number of predictions where iou > threshold(0.6): 10000\n",
            "Number of predictions where iou < threshold(0.6): 0\n"
          ]
        },
        {
          "output_type": "display_data",
          "data": {
            "text/plain": [
              "<Figure size 2000x400 with 11 Axes>"
            ],
            "image/png": "[encoded data removed]"
          },
          "metadata": {}
        }
      ]
    }
  ]
}